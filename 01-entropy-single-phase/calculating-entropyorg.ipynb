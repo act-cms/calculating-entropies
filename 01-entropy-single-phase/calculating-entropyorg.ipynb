{
 "cells": [
  {
   "cell_type": "markdown",
   "id": "d99c2ffb-4f63-46f2-b1d9-33ee6173d45f",
   "metadata": {},
   "source": [
    "## How can we calculate the entropy of a solid?\n",
    "\n"
   ]
  },
  {
   "cell_type": "markdown",
   "id": "e7eef78f-3508-49ae-9788-111fdc7a6d82",
   "metadata": {},
   "source": [
    "A common task in thermodynamics is calculating the entropy of a substance. Because nobody has invented a device that can measure entropy experimentally, we resort to other measurable quantities (heat capacity and enthalpy) and mathematical relationships. Knowing entropy, it is possible to identify what processes will occur spontaneously and predict when they will reach equilibrium. In this activity, you will calculate the entropy of a substance in a single phase.\n",
    "\n"
   ]
  },
  {
   "cell_type": "markdown",
   "id": "b5fbc41b-5813-43b0-9577-ddfe7e10f44b",
   "metadata": {},
   "source": [
    "### Prerequisites\n",
    "\n"
   ]
  },
  {
   "cell_type": "markdown",
   "id": "e5b0c284-51c4-4ee4-a3cf-61dd67f6bb86",
   "metadata": {},
   "source": [
    "This notebook assumes users are familiar with thermodynamics concepts including\n",
    "\n",
    "-   differential forms for the first and second laws of thermodynamics\n",
    "-   temperature dependence of heat capacity\n",
    "\n",
    "and python/Jupyter skills\n",
    "\n",
    "-   importing and parsing CSV files\n",
    "-   basic plotting with matplotlib\n",
    "-   creating and manipulating numpy arrays\n",
    "-   using Scipy numerical integration functions\n",
    "\n"
   ]
  },
  {
   "cell_type": "markdown",
   "id": "87fda010-d296-4997-a09c-42ebc41a0506",
   "metadata": {},
   "source": [
    "### Content Objectives\n",
    "\n"
   ]
  },
  {
   "cell_type": "markdown",
   "id": "67039302-6a71-47aa-8bc2-a5e275889936",
   "metadata": {},
   "source": [
    "After completing this exercise you should be able to\n",
    "\n",
    "-   apply the first and second laws of thermodynamics for calculating the entropy of a substance in a single phase\n",
    "-   relate heat capacity to entropy mathematically\n",
    "-   predict the effect of structure on the entropy of a substance\n",
    "\n"
   ]
  },
  {
   "cell_type": "markdown",
   "id": "5c016a8e-10bf-438d-8fb0-904157f50203",
   "metadata": {},
   "source": [
    "### Process Objectives\n",
    "\n"
   ]
  },
  {
   "cell_type": "markdown",
   "id": "632e18d9-3cd3-4b3b-80af-e316d9b19177",
   "metadata": {},
   "source": [
    "After completing this exercise you should be able to use python to\n",
    "\n",
    "-   import and visualize structured data\n",
    "-   fit experimental values to a polynomial\n",
    "-   assess the quality of fit using statistical measures RSS or SSE\n",
    "\n"
   ]
  },
  {
   "cell_type": "markdown",
   "id": "fcd70cba-8906-4547-b008-210a3195b41c",
   "metadata": {},
   "source": [
    "### Python Environment\n",
    "\n"
   ]
  },
  {
   "cell_type": "code",
   "execution_count": null,
   "id": "464ed8a4-c476-4dc8-ba1e-86b7338d3b70",
   "metadata": {},
   "outputs": [],
   "source": [
    "import matplotlib.pyplot as plt\n",
    "import numpy as np\n",
    "from numpy.polynomial.polynomial import polyfit, polyval, Polynomial\n",
    "from scipy.integrate import trapezoid, simpson, quad"
   ]
  },
  {
   "cell_type": "markdown",
   "id": "805067ae-ade6-4468-a974-8adc20f7f607",
   "metadata": {},
   "source": [
    "WU = Warm Up questions; CTQ = Critical Thinking Questions.\n",
    "\n"
   ]
  },
  {
   "cell_type": "markdown",
   "id": "e3aab52b-1efc-470a-a2b6-d701c7dbbe31",
   "metadata": {},
   "source": [
    "## Warm Up Questions\n",
    "\n"
   ]
  },
  {
   "cell_type": "markdown",
   "id": "f48c8298-cb57-487f-b6fa-c99d02a50854",
   "metadata": {},
   "source": [
    "Answer questions individually, then compare and discuss answers with your group until there is consensus.\n",
    "\n",
    "**WU 1** List the devices and methods that can be used to measure a) enthalpy changes b) heat capacity, and c) entropy changes.\n",
    "\n"
   ]
  },
  {
   "cell_type": "code",
   "execution_count": null,
   "id": "1341e482-2e20-457b-b3aa-8ff2a2a9dc21",
   "metadata": {},
   "outputs": [],
   "source": []
  },
  {
   "cell_type": "markdown",
   "id": "2ace03fe-1ff6-4e24-9dfe-4c495eb910c1",
   "metadata": {},
   "source": [
    "**WU 2** How is heat capacity measured experimentally?\n",
    "\n"
   ]
  },
  {
   "cell_type": "code",
   "execution_count": null,
   "id": "3337b27f-eda2-4f9f-a56b-5ef43b77ec9f",
   "metadata": {},
   "outputs": [],
   "source": []
  },
  {
   "cell_type": "markdown",
   "id": "a5fcb29b-a908-48aa-84bc-95bf62cc3a6a",
   "metadata": {},
   "source": [
    "**WU 3** Using words, write a working definition of the third law of thermodynamics.\n",
    "\n"
   ]
  },
  {
   "cell_type": "code",
   "execution_count": null,
   "id": "abf75e04-d233-40c5-a2ed-203c5c100b9c",
   "metadata": {},
   "outputs": [],
   "source": []
  },
  {
   "cell_type": "markdown",
   "id": "51ab544e-3b45-4694-ba8d-581aa0d26f07",
   "metadata": {},
   "source": [
    "**WU 4** Using words, write a working definition of entropy. Is entropy temperature dependent?\n",
    "\n"
   ]
  },
  {
   "cell_type": "code",
   "execution_count": null,
   "id": "cf23910b-0ed3-4d34-803a-05038a727356",
   "metadata": {},
   "outputs": [],
   "source": []
  },
  {
   "cell_type": "markdown",
   "id": "0b1313eb-db62-4bb5-a311-5c955d620bee",
   "metadata": {},
   "source": [
    "**WU 5** Write a differential expression for the second law of thermodynamics, relating $S$, $q$, and $T$.\n",
    "\n"
   ]
  },
  {
   "cell_type": "code",
   "execution_count": null,
   "id": "cf40a44d-1e1b-4d76-b35c-bcde0b46c0b6",
   "metadata": {},
   "outputs": [],
   "source": []
  },
  {
   "cell_type": "markdown",
   "id": "584a5986-b90c-475e-9e43-d2f03d0749ae",
   "metadata": {},
   "source": [
    "**WU 6** Write the relationship that connects $S(T)$ and $C_p$ over the temperature range $T_i$ to $T_f$.\n",
    "\n"
   ]
  },
  {
   "cell_type": "code",
   "execution_count": null,
   "id": "c341975a-c098-4542-9503-db7572d62140",
   "metadata": {},
   "outputs": [],
   "source": []
  },
  {
   "cell_type": "markdown",
   "id": "478a229f-c2b1-4641-8bbe-99290241681f",
   "metadata": {},
   "source": [
    "**WU 7** Using the relationship in the previous question for inspiration, propose an experiment that would allow you to measure the entropy of a substance in the lab.\n",
    "\n"
   ]
  },
  {
   "cell_type": "code",
   "execution_count": null,
   "id": "76a73a9b-540d-4830-8db1-2e1c9496aa6b",
   "metadata": {},
   "outputs": [],
   "source": []
  },
  {
   "cell_type": "markdown",
   "id": "d3195ab3-2468-40c0-99ac-2e8182ef8ca2",
   "metadata": {},
   "source": [
    "**WU 8**  Predict whether the isobaric heat capacity, $C_p$, for a substance in a given phase should increase, decrease, or remain constant as $T$ increases. Explain your reasoning.\n",
    "\n"
   ]
  },
  {
   "cell_type": "code",
   "execution_count": null,
   "id": "8f0e3f77-bbe3-4891-a516-1f28cefd58d8",
   "metadata": {},
   "outputs": [],
   "source": []
  },
  {
   "cell_type": "markdown",
   "id": "f652e7f0-a3ce-4f54-9d4d-ec4da7e9ca61",
   "metadata": {},
   "source": [
    "## How to calculate the heat capacity of Ag(s) as a function of temperature\n",
    "\n"
   ]
  },
  {
   "cell_type": "markdown",
   "id": "fa2441d6-a1a2-4ebc-87bc-608238cf043b",
   "metadata": {},
   "source": [
    "Procedure for modeling $C_p(T)$, which can then be used to calculate molar entropy:\n",
    "\n",
    "1.  import and fit experimental $C_p$ data to a polynomial\n",
    "2.  assess quality of fit using [Residual Sum of Squares](https://en.wikipedia.org/wiki/Residual_sum_of_squares) (RSS), also known as the Sum of Squares Error (SSE)\n",
    "3.  calculate $S(T)$ over experimental temperature range, $S(T) = \\int_{T_i}^{T_f} \\frac{C_P}{T}\\; dT$\n",
    "4.  apply Debye approximation for heat capacity at low temperatures\n",
    "\n"
   ]
  },
  {
   "cell_type": "markdown",
   "id": "03c0bf5e-b85c-4d18-8196-e87dfb517c4c",
   "metadata": {},
   "source": [
    "### Import and visualize experimental data\n",
    "\n"
   ]
  },
  {
   "cell_type": "markdown",
   "id": "8334eb80-095d-486d-aecb-5c664c05ffbf",
   "metadata": {},
   "source": [
    "Examine the data file for headers and format.\n",
    "\n"
   ]
  },
  {
   "cell_type": "code",
   "execution_count": null,
   "id": "96e8b7ba-6e75-4eee-b0c7-2ec2d210ba10",
   "metadata": {},
   "outputs": [],
   "source": [
    "!head -n 5 cpSilver.csv"
   ]
  },
  {
   "cell_type": "markdown",
   "id": "6e80456a-7d9f-452b-b477-68c9908c05c2",
   "metadata": {},
   "source": [
    "**CTQ 1** What are the data, units, and delimiters in this file?\n",
    "\n"
   ]
  },
  {
   "cell_type": "code",
   "execution_count": null,
   "id": "e98a4e60-33d6-4b9d-9daf-b716a3f2999b",
   "metadata": {},
   "outputs": [],
   "source": []
  },
  {
   "cell_type": "markdown",
   "id": "7db5635a-a033-40b7-8698-3301f6461604",
   "metadata": {},
   "source": [
    "**Exercise 1**\n",
    "Modify this code block to import the silver heat capacity data into numpy arrays and plot the data to visualize the temperature dependence.\n",
    "\n"
   ]
  },
  {
   "cell_type": "code",
   "execution_count": null,
   "id": "5cbd7629-7795-476f-8a64-cedffaf09f22",
   "metadata": {},
   "outputs": [],
   "source": [
    "# Ts, Cps = np.genfromtxt('filename.csv', delimiter='some delimiter', unpack=True, skip_header=1)\n",
    "# ..."
   ]
  },
  {
   "cell_type": "code",
   "execution_count": null,
   "id": "b7a513cc-6baa-421c-952f-05e85b8532ba",
   "metadata": {},
   "outputs": [],
   "source": []
  },
  {
   "cell_type": "markdown",
   "id": "12deda80-9aab-4409-b56f-492829aeebf2",
   "metadata": {},
   "source": [
    "**CTQ 2** a) Does the plot agree with your prediction in WU-8? b) Does your group think the curve has a recognizable shape (e.g., quadratic, exponential, reciprocal)?\n",
    "\n"
   ]
  },
  {
   "cell_type": "code",
   "execution_count": null,
   "id": "b3ccd212-98c3-4b51-a2c4-7fbe5f98910c",
   "metadata": {},
   "outputs": [],
   "source": []
  },
  {
   "cell_type": "markdown",
   "id": "faf7665d-9af4-4838-b413-5af57a6600e5",
   "metadata": {},
   "source": [
    "**CTQ 3** In your paper notebook or Jupyter notebook, capture the steps used and any &ldquo;gotchas&rdquo; for visualizing experimental data using python.\n",
    "\n"
   ]
  },
  {
   "cell_type": "code",
   "execution_count": null,
   "id": "45048be9-4ffe-4442-8a0e-be43f166cc04",
   "metadata": {},
   "outputs": [],
   "source": []
  },
  {
   "cell_type": "markdown",
   "id": "038826ac-ba6e-403e-a54d-1a9fcf59aeed",
   "metadata": {},
   "source": [
    "### Fitting $C_p$ data to a polynomial\n",
    "\n"
   ]
  },
  {
   "cell_type": "markdown",
   "id": "ca98173c-1ff5-4b00-9675-987d230e1e41",
   "metadata": {},
   "source": [
    "**Worked Example**   \n",
    "Plan: Fit $C_p$ data to a polynomial of degree $n$ and plot the fit with experimental data. Assess the quality of fit using [RSS](https://en.wikipedia.org/wiki/Residual_sum_of_squares) and the variance. Smaller values for RSS and variance suggest a better fit to the data.\n",
    "\n"
   ]
  },
  {
   "cell_type": "code",
   "execution_count": null,
   "id": "fb6e2ab6-84b0-482c-9d0e-df8ebf5e861c",
   "metadata": {},
   "outputs": [],
   "source": [
    "n = 2  # Cp vs T doesn't look linear, so n=1 is not a good choice.\n",
    "fit = polyfit(Ts, Cps, n)\n",
    "fitvalues = polyval(Ts, fit)\n",
    "\n",
    "rss = np.sum((Cps - fitvalues)**2)\n",
    "variance = rss / (len(Cps)-1)\n",
    "print(f\"n={n}, rss={rss:.2f}, variance={variance:.2e}\")\n",
    "\n",
    "fig, ax = plt.subplots()\n",
    "ax.plot(Ts, Cps, 'o')\n",
    "ax.plot(Ts, fitvalues)"
   ]
  },
  {
   "cell_type": "markdown",
   "id": "1103ff43-a9e9-4553-84a4-ab1736beb2ec",
   "metadata": {},
   "source": [
    "The optimized polynomial coefficients are stored in the array named &ldquo;fit&rdquo;. The coefficients can be printed:\n",
    "\n"
   ]
  },
  {
   "cell_type": "code",
   "execution_count": null,
   "id": "a29586dc-ef83-4acb-acd2-a4a7242853e0",
   "metadata": {},
   "outputs": [],
   "source": [
    "print(fit)\n",
    "print(Polynomial(fit))"
   ]
  },
  {
   "cell_type": "markdown",
   "id": "00944245-8a5d-402f-8f0e-5783c8b163d4",
   "metadata": {},
   "source": [
    "**CTQ 4** Examine the polynomial equation that polyfit found with $n=2$. Does the equation reflect the general trend of the data? How would you assess the quality of the fit?\n",
    "\n"
   ]
  },
  {
   "cell_type": "code",
   "execution_count": null,
   "id": "6e878b54-91c3-40d4-a60b-ed52461ba5c5",
   "metadata": {},
   "outputs": [],
   "source": []
  },
  {
   "cell_type": "markdown",
   "id": "99874432-a4fe-4145-8c73-4d075578fb73",
   "metadata": {},
   "source": [
    "**CTQ 5** From the code above, write the mathematical expressions for RSS and variance. Identify each variable (explain what each variable is).\n",
    "\n"
   ]
  },
  {
   "cell_type": "code",
   "execution_count": null,
   "id": "9be49335-a95c-4653-b335-4d66a24da49b",
   "metadata": {},
   "outputs": [],
   "source": []
  },
  {
   "cell_type": "markdown",
   "id": "0920164f-73fe-439d-89f0-d3335de5f37d",
   "metadata": {},
   "source": [
    "**CTQ 6** How can RSS and variance be used to assess the quality of the fit?\n",
    "\n"
   ]
  },
  {
   "cell_type": "code",
   "execution_count": null,
   "id": "8b043a71-a930-489c-8a64-5ad04601e1fb",
   "metadata": {},
   "outputs": [],
   "source": []
  },
  {
   "cell_type": "markdown",
   "id": "361ff82b-bda3-4e74-b34b-f3ee954d457c",
   "metadata": {},
   "source": [
    "**CTQ 7** Based on the information above, could the heat capacity data be fit to a 12th order polynomial (n=12)?\n",
    "\n"
   ]
  },
  {
   "cell_type": "code",
   "execution_count": null,
   "id": "45c5b6f3-e03c-4a83-9413-14393c9bbf5e",
   "metadata": {},
   "outputs": [],
   "source": []
  },
  {
   "cell_type": "markdown",
   "id": "c4021f32-2447-4a57-bf93-7c886eb699dd",
   "metadata": {},
   "source": [
    "**Exercise 2**  \n",
    "Vary the value of $n$ and find a polynomial that fits the data well. Use the minimum number of fit parameters (terms in the polynomial) to obtain reasonable agreement.\n",
    "\n",
    "Tabulate n and goodness-of-fit measures for at least 5 different polynomials.\n",
    "\n"
   ]
  },
  {
   "cell_type": "code",
   "execution_count": null,
   "id": "f0679c8c-5213-4e4a-a442-e4b7ebf7a147",
   "metadata": {},
   "outputs": [],
   "source": []
  },
  {
   "cell_type": "markdown",
   "id": "1db8ebe4-1ddd-4e7c-8e45-98f21a42983a",
   "metadata": {},
   "source": [
    "**CTQ 8**\n",
    " Give the full mathematical expression for the polynomial that you chose as having the best fit, and explain your reasoning for choosing it.\n",
    "\n"
   ]
  },
  {
   "cell_type": "code",
   "execution_count": null,
   "id": "3a153041-5428-49e2-afdf-2cb894ad3e4b",
   "metadata": {},
   "outputs": [],
   "source": []
  },
  {
   "cell_type": "markdown",
   "id": "b457881b-0ef0-481d-b1d8-7e8a830e0d4b",
   "metadata": {},
   "source": [
    "**CTQ 9** Are there disadvantages to fitting the heat capacity data to higher order polynomials (for example, 12th order)?\n",
    "\n"
   ]
  },
  {
   "cell_type": "code",
   "execution_count": null,
   "id": "ecda141f-0031-4010-9962-968a04a9b54f",
   "metadata": {},
   "outputs": [],
   "source": []
  },
  {
   "cell_type": "markdown",
   "id": "92d2236a-aceb-4cb8-8ce2-5fa80867570f",
   "metadata": {},
   "source": [
    "### How many fitting parameters should be used?\n",
    "\n"
   ]
  },
  {
   "cell_type": "markdown",
   "id": "cac5eaa5-1994-459c-9145-1610c80d3f26",
   "metadata": {},
   "source": [
    "In experimental settings, [overfitting](https://en.wikipedia.org/wiki/Overfitting)  refers to the situation where a statistical model or analysis captures noise or random fluctuations in the data rather than the true underlying relationships or patterns. Two common ways overfitting can manifest in experimental data:\n",
    "\n",
    "-   Model Complexity: Using overly complex models (e.g., high-degree polynomials or intricate statistical models) can lead to fitting the noise in the data. This can result in misleading conclusions about the relationships between variables.\n",
    "-   Small Sample Sizes: When the sample size is small, there is a higher risk of overfitting because the model may be too closely tailored to the specific data points available.\n",
    "\n",
    "**Exercise 3**  \n",
    "Plot the model function polynomial with n=7 from 10K to 300K and from 10K to 400K or more. (Offset one of the curves by adding an arbitrary constant if you want to plot both curves on the same axes.)\n",
    "\n"
   ]
  },
  {
   "cell_type": "code",
   "execution_count": null,
   "id": "e2b77637-6ff3-4dcf-beae-fe7153d9b868",
   "metadata": {},
   "outputs": [],
   "source": []
  },
  {
   "cell_type": "markdown",
   "id": "eb6fab5f-08be-4045-8748-fd75efbdb3c8",
   "metadata": {},
   "source": [
    "**CTQ 10**  Assess the ability of the n=7 polynomial model to predict $Cp$ at temperatures above 300K. What might be limiting the predictive ability of the model?\n",
    "\n"
   ]
  },
  {
   "cell_type": "code",
   "execution_count": null,
   "id": "99f1d3f6-293a-400f-beab-1253bf92c843",
   "metadata": {},
   "outputs": [],
   "source": []
  },
  {
   "cell_type": "markdown",
   "id": "7bc6c7d7-45a7-4330-bb7b-70d104c0c068",
   "metadata": {},
   "source": [
    "**CTQ 11** Are there disadvantages to fitting the heat capacity data to a high-order polynomial?\n",
    "\n"
   ]
  },
  {
   "cell_type": "markdown",
   "id": "b0ff6fb5-d4d7-44c3-8468-8bed1b2ae099",
   "metadata": {},
   "source": [
    "### Calculate entropy over the measured temperature range\n",
    "\n"
   ]
  },
  {
   "cell_type": "markdown",
   "id": "97b3a193-9e51-4107-9b37-09d43cf02686",
   "metadata": {},
   "source": [
    "**CTQ 12** Write the expression relating $S$ to $C_p(T)$.\n",
    "\n"
   ]
  },
  {
   "cell_type": "code",
   "execution_count": null,
   "id": "a4721e33-6855-4c72-875d-144a074692fe",
   "metadata": {},
   "outputs": [],
   "source": []
  },
  {
   "cell_type": "markdown",
   "id": "5bd1b33a-c2da-4093-9cfd-ce68395ffa9e",
   "metadata": {},
   "source": [
    "**Exercise 4**  \n",
    "Use the best-fit polynomial you chose above to calculate $S$ over the measured temperature range. The functions [trapezoid](https://docs.scipy.org/doc/scipy/reference/generated/scipy.integrate.trapezoid.html#scipy.integrate.trapezoid), [simpson](https://docs.scipy.org/doc/scipy/reference/generated/scipy.integrate.simpson.html#scipy.integrate.simpson), and [quad](https://docs.scipy.org/doc/scipy/reference/generated/scipy.integrate.quad.html#scipy.integrate.quad) all perform numerical integration. Giauque reports a value around 40 J/mol K using graphical integration.\n",
    "\n"
   ]
  },
  {
   "cell_type": "code",
   "execution_count": null,
   "id": "b14425ab-885c-4510-ba34-057615342405",
   "metadata": {},
   "outputs": [],
   "source": []
  },
  {
   "cell_type": "markdown",
   "id": "40abc1e4-9be1-443d-af61-05bff2e2c184",
   "metadata": {},
   "source": [
    "### Adding the Debye extrapolation\n",
    "\n"
   ]
  },
  {
   "cell_type": "markdown",
   "id": "8706a861-4036-4b0a-8752-2dca1f2a2b8b",
   "metadata": {},
   "source": [
    "Note there are no experimental data below about 10K. Because it is difficult to measure heat capacity at low temperatures (how would you design a calorimeter that works at a few Kelvin?), the [Debye model](https://en.wikipedia.org/wiki/Debye_model) is often used to cover temperatures from 0 K to the lowest temperature that can be measured experimentally.\n",
    "\n",
    "At low temperatures, many substances follow the relationship\n",
    "$$C_p = aT^3 $$\n",
    "where $a$ is an empirical constant.\n",
    "\n",
    "**CTQ 13** Show that\n",
    "$$ S(T_{low}) = \\dfrac{aT_{low}^3}{3}$$\n",
    "\n",
    "**Exercise 5**  \n",
    "Using $C_p$ at $T_{low}$, determine $a$ for silver from the data. Next, calculate $S$ from 0 K to the lowest measured temperature in the data.\n",
    "\n"
   ]
  },
  {
   "cell_type": "code",
   "execution_count": null,
   "id": "12185496-9a0d-47b4-af6d-52332ea43c71",
   "metadata": {},
   "outputs": [],
   "source": []
  },
  {
   "cell_type": "markdown",
   "id": "51826596-b140-4d80-9a5c-486f27dee7bf",
   "metadata": {},
   "source": [
    "### The whole picture\n",
    "\n"
   ]
  },
  {
   "cell_type": "markdown",
   "id": "a0b357a7-23b4-4f93-91c9-af668424aa0c",
   "metadata": {},
   "source": [
    "**Exercise 6**  \n",
    "Calculate the total entropy from 0K to the maximum temperature in the data.\n",
    "\n"
   ]
  },
  {
   "cell_type": "code",
   "execution_count": null,
   "id": "cebf8feb-64a7-47c5-abcb-a4458e0bb37c",
   "metadata": {},
   "outputs": [],
   "source": []
  },
  {
   "cell_type": "markdown",
   "id": "3db05cdb-724d-44f6-bd4a-e4a9b59a709a",
   "metadata": {},
   "source": [
    "**CTQ 14** Find the molar entropy for Ag at 298.15K on the NIST Webbook or in the CRC Handbook and compare it to your result. Quantify any differences and assess the quality of the modeling approach that was used.\n",
    "\n"
   ]
  },
  {
   "cell_type": "code",
   "execution_count": null,
   "id": "d1a54356-8d89-42fc-b61e-637997852317",
   "metadata": {},
   "outputs": [],
   "source": []
  },
  {
   "cell_type": "markdown",
   "id": "dda8d53e-ca87-4667-b029-197a6420f237",
   "metadata": {},
   "source": [
    "**CTQ 15** Could this modeling approach be used to calculate the entropy of Ag at, say, 500K? At 1500K? Why or why not?\n",
    "\n"
   ]
  },
  {
   "cell_type": "code",
   "execution_count": null,
   "id": "67582a7a-6cc4-4909-8763-84dbb6424b34",
   "metadata": {},
   "outputs": [],
   "source": []
  },
  {
   "cell_type": "markdown",
   "id": "b6ccc674-c655-4f48-adb6-af317dd5c506",
   "metadata": {},
   "source": [
    "## How do the entropies of other substances compare to Ag?\n",
    "\n"
   ]
  },
  {
   "cell_type": "markdown",
   "id": "65ab846b-e383-4a46-b4b4-d449429caa82",
   "metadata": {},
   "source": [
    "Each person in the group choose one element from beryllium, gold, or copper (double up if necessary). \n",
    "\n",
    "**CTQ 16** Make a prediction: How will the molar entropy of your element compare to that of Ag over the same temperature range? Explain your reasoning.\n",
    "\n"
   ]
  },
  {
   "cell_type": "code",
   "execution_count": null,
   "id": "609176e5-c4a3-4970-8ac0-02460b795bcb",
   "metadata": {},
   "outputs": [],
   "source": []
  },
  {
   "cell_type": "markdown",
   "id": "64bc7de9-758c-4742-a1af-04a0f82c0580",
   "metadata": {},
   "source": [
    "**CTQ 17** As a group (without referring to outside sources) arrange the elements in order of *increasing* molar entropy. Explain your reasoning.\n",
    "\n"
   ]
  },
  {
   "cell_type": "code",
   "execution_count": null,
   "id": "cedf7bce-5d9d-4221-9cf2-b5c8a1f9985f",
   "metadata": {},
   "outputs": [],
   "source": []
  },
  {
   "cell_type": "markdown",
   "id": "5b123dcc-c53b-49e3-bccc-5a29c9b8781b",
   "metadata": {},
   "source": [
    "## What is the entropy of my element?\n",
    "\n"
   ]
  },
  {
   "cell_type": "markdown",
   "id": "fce6999a-18c0-4b15-b60b-5a4e3dcd89b1",
   "metadata": {},
   "source": [
    "**Exercise 7**  \n",
    "Use Cp/temperature data to determine the molar entropy of your element from 0 to 298K. This cell will list the files accessible by Jupyter. You may need to upload the associated data file if it does not appear in the list.\n",
    "\n"
   ]
  },
  {
   "cell_type": "code",
   "execution_count": null,
   "id": "c1262ff5-879f-45db-ac23-257769e9f8c6",
   "metadata": {},
   "outputs": [],
   "source": [
    "# list csv data files\n",
    "import glob; glob.glob(\"*.csv\")"
   ]
  },
  {
   "cell_type": "code",
   "execution_count": null,
   "id": "a7ffb474-3250-4493-878b-ca7b1fde52ea",
   "metadata": {},
   "outputs": [],
   "source": [
    "# enter your code for the entropy calculation"
   ]
  },
  {
   "cell_type": "markdown",
   "id": "80637c67-944d-467e-a8fb-51ef88cf20f5",
   "metadata": {},
   "source": [
    "**CTQ 18** Compare the entropy to that found on the NIST Webbook or in the CRC Handbook and to your prediction. Cite your reference.\n",
    "\n"
   ]
  },
  {
   "cell_type": "code",
   "execution_count": null,
   "id": "3bcf4997-d78c-4872-90ec-840032c811c1",
   "metadata": {},
   "outputs": [],
   "source": []
  },
  {
   "cell_type": "markdown",
   "id": "3dd4e732-eff5-4352-bfe8-38cceb8f6985",
   "metadata": {},
   "source": [
    "**CTQ 19** Pool the groups results for all of the elements. Was the predicted order correct? if not, what may have led to an unsupported prediction.\n",
    "\n"
   ]
  },
  {
   "cell_type": "code",
   "execution_count": null,
   "id": "3c7c4d15-81dc-4f54-9606-9b943e24171d",
   "metadata": {},
   "outputs": [],
   "source": []
  },
  {
   "cell_type": "markdown",
   "id": "c065a4b4-a6f9-48d2-9559-4b3669b4674f",
   "metadata": {},
   "source": [
    "**CTQ 20** Briefly summarize the mathematical relationships and process used to obtain the molar entropy of a substance in a single phase.\n",
    "\n"
   ]
  },
  {
   "cell_type": "code",
   "execution_count": null,
   "id": "39f215f5-0474-46c2-bf1e-765a070f2e84",
   "metadata": {},
   "outputs": [],
   "source": []
  },
  {
   "cell_type": "markdown",
   "id": "f127adbf-3c2f-4b3b-8cca-997eb516c64f",
   "metadata": {},
   "source": [
    "## Reflection\n",
    "\n"
   ]
  },
  {
   "cell_type": "markdown",
   "id": "76c74a9d-6d87-44b0-a103-b4b4d55cf377",
   "metadata": {},
   "source": [
    "On your own, review the Content and Process Objectives at the beginning of the activity. Identify which of the objectives you feel you meet and those that may need more work; explain reasoning for your assessment.\n",
    "\n"
   ]
  },
  {
   "cell_type": "code",
   "execution_count": null,
   "id": "ed26d66d-6219-4c52-8712-b1e0b4741de2",
   "metadata": {},
   "outputs": [],
   "source": []
  },
  {
   "cell_type": "markdown",
   "id": "6983b496-d886-4d5a-bec1-1ca1ef47a776",
   "metadata": {},
   "source": [
    "Identify parts of the activity that stood out as surprising, interesting, or confusing, and explain why.\n",
    "\n"
   ]
  },
  {
   "cell_type": "code",
   "execution_count": null,
   "id": "507c148a-f2d6-4db9-8f98-3da196040179",
   "metadata": {},
   "outputs": [],
   "source": []
  },
  {
   "cell_type": "markdown",
   "id": "e7c6be66-d38b-42ac-909a-2c402254bb91",
   "metadata": {},
   "source": [
    "## References\n",
    "\n"
   ]
  },
  {
   "cell_type": "markdown",
   "id": "255cdafd-f01b-4552-8d0b-c447f6ff8457",
   "metadata": {},
   "source": [
    "Engle and Reid, *Physical Chemistry*, 3rd ed., Pearson, 2013.\n",
    "\n",
    "McQuarrie and Simon, *Physical Chemistry: A Molecular Approach*, University Science Books, 1997\n",
    "\n",
    "T. Grubbs, LibreTexts: Data Driven Exercises [Molar Enthalpy of Al2O3](https://chem.libretexts.org/Bookshelves/Physical_and_Theoretical_Chemistry_Textbook_Maps/Exercises%3A_Physical_and_Theoretical_Chemistry/Data-Driven_Exercises/Standard_Molar_Entropy_of_Aluminum_Oxide) (accessed 2025-06)\n",
    "\n",
    "Hamilton and Zielinski, &ldquo;Conventional Entropies and the Third Law of Thermodynamics&rdquo;, Symmath Project (defunct)\n",
    "\n"
   ]
  },
  {
   "cell_type": "markdown",
   "id": "cbdf5f90-2a99-4226-95bf-d328ee950a46",
   "metadata": {},
   "source": [
    "## Acknowledgement\n",
    "\n"
   ]
  },
  {
   "cell_type": "markdown",
   "id": "843b4804-cc7f-4c75-878d-72d43601b4fe",
   "metadata": {},
   "source": [
    "[ACT-CMS](https://act-cms.molssi.org/) is funded by the National Science Foundation Training-based Workforce Development for Advanced Cyberinfrastructure program (OAC 2321044,OAC 2321045).\n",
    "\n"
   ]
  }
 ],
 "metadata": {
  "kernelspec": {
   "display_name": "Python 3",
   "language": "python",
   "name": "python3"
  },
  "language_info": {
   "codemirror_mode": {
    "name": "ipython",
    "version": 3
   },
   "file_extension": ".py",
   "mimetype": "text/x-python",
   "name": "python",
   "nbconvert_exporter": "python",
   "pygments_lexer": "ipython3",
   "version": "3.5.2"
  },
  "org": null
 },
 "nbformat": 4,
 "nbformat_minor": 5
}
