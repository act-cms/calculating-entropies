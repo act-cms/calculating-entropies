{
 "cells": [
  {
   "cell_type": "markdown",
   "metadata": {
    "il": null
   },
   "source": [
    "\n",
    "# How can we calculate the entropy of a solid?\n",
    "\n"
   ]
  },
  {
   "cell_type": "markdown",
   "metadata": {},
   "source": [
    "A common task in thermodynamics is calculating the entropy of a substance. Because nobody has invented a device that can measure entropy experimentally, we resort to other measurable quantities (heat capacity and enthalpy) and mathematical relationships. Knowing entropy, it is possible to identify what processes will occur spontaneously and predict when they will reach equilibrium. In this activity, you will calculate the entropy of a substance in a single phase.\n"
   ]
  },
  {
   "cell_type": "markdown",
   "metadata": {
    "il": null
   },
   "source": [
    "\n",
    "## Prerequisites\n",
    "\n"
   ]
  },
  {
   "cell_type": "markdown",
   "metadata": {},
   "source": [
    "This notebook assumes users are familiar with thermodynamics concepts including\n",
    "\n",
    "-   differential forms for the first and second laws of thermodynamics\n",
    "-   temperature dependence of heat capacity\n",
    "\n",
    "and python/Jupyter skills\n",
    "\n",
    "-   importing and parsing CSV files\n",
    "-   basic plotting with matplotlib\n",
    "-   creating and manipulating numpy arrays\n",
    "-   calling library functions\n"
   ]
  },
  {
   "cell_type": "markdown",
   "metadata": {
    "il": null
   },
   "source": [
    "\n",
    "## Content Objectives\n",
    "\n"
   ]
  },
  {
   "cell_type": "markdown",
   "metadata": {},
   "source": [
    "After completing this exercise you should be able to\n",
    "\n",
    "-   apply the first and second laws of thermodynamics for calculating the entropy of a substance in a single phase\n",
    "-   relate heat capacity to entropy mathematically\n",
    "-   predict the effect of structure on the entropy of a substance\n"
   ]
  },
  {
   "cell_type": "markdown",
   "metadata": {
    "il": null
   },
   "source": [
    "\n",
    "## Process Objectives\n",
    "\n"
   ]
  },
  {
   "cell_type": "markdown",
   "metadata": {},
   "source": [
    "After completing this exercise you should be able to use python to\n",
    "\n",
    "-   import and visualize structured data\n",
    "-   fit experimental values to a polynomial\n",
    "-   assess the quality of fit using statistical measures RSS or SSE\n"
   ]
  },
  {
   "cell_type": "markdown",
   "metadata": {
    "il": null
   },
   "source": [
    "\n",
    "## Python Environment\n",
    "\n"
   ]
  },
  {
   "cell_type": "code",
   "execution_count": 1,
   "metadata": {},
   "outputs": [
    {
     "name": "stdout",
     "output_type": "stream",
     "text": []
    }
   ],
   "source": [
    "import matplotlib.pyplot as plt\n",
    "import numpy as np\n",
    "from numpy.polynomial.polynomial import polyfit, polyval, Polynomial\n",
    "from scipy.integrate import trapezoid, simpson, quad"
   ]
  },
  {
   "cell_type": "markdown",
   "metadata": {},
   "source": [
    "WU = Warm Up questions; CTQ = Critical Thinking Questions.\n"
   ]
  },
  {
   "cell_type": "markdown",
   "metadata": {
    "il": null
   },
   "source": [
    "\n",
    "# Warm Up Questions\n",
    "\n"
   ]
  },
  {
   "cell_type": "markdown",
   "metadata": {},
   "source": [
    "Answer questions individually, then compare and discuss answers with your group until there is consensus.\n",
    "\n",
    "**WU-1** List the devices and methods that can be used to measure a) enthalpy changes b) heat capacity, and c) entropy changes.\n"
   ]
  },
  {
   "cell_type": "code",
   "execution_count": 1,
   "metadata": {},
   "outputs": [
    {
     "name": "stdout",
     "output_type": "stream",
     "text": []
    }
   ],
   "source": []
  },
  {
   "cell_type": "markdown",
   "metadata": {},
   "source": [
    "**WU-2** How is heat capacity measured experimentally?\n"
   ]
  },
  {
   "cell_type": "code",
   "execution_count": 1,
   "metadata": {},
   "outputs": [
    {
     "name": "stdout",
     "output_type": "stream",
     "text": []
    }
   ],
   "source": []
  },
  {
   "cell_type": "markdown",
   "metadata": {},
   "source": [
    "**WU-3** Using words, write a working definition of the third law of thermodynamics.\n"
   ]
  },
  {
   "cell_type": "code",
   "execution_count": 1,
   "metadata": {},
   "outputs": [
    {
     "name": "stdout",
     "output_type": "stream",
     "text": []
    }
   ],
   "source": []
  },
  {
   "cell_type": "markdown",
   "metadata": {},
   "source": [
    "**WU-4** Using words, write a working definition of entropy. Is entropy temperature dependent?\n"
   ]
  },
  {
   "cell_type": "code",
   "execution_count": 1,
   "metadata": {},
   "outputs": [
    {
     "name": "stdout",
     "output_type": "stream",
     "text": []
    }
   ],
   "source": []
  },
  {
   "cell_type": "markdown",
   "metadata": {},
   "source": [
    "**WU-5** Write a differential expression for the second law of thermodynamics, relating $S$, $q$, and $T$.\n"
   ]
  },
  {
   "cell_type": "code",
   "execution_count": 1,
   "metadata": {},
   "outputs": [
    {
     "name": "stdout",
     "output_type": "stream",
     "text": []
    }
   ],
   "source": []
  },
  {
   "cell_type": "markdown",
   "metadata": {},
   "source": [
    "**WU-6** Write the relationship that connects $S(T)$ and $C_p$ over the temperature range $T_i$ to $T_f$.\n"
   ]
  },
  {
   "cell_type": "code",
   "execution_count": 1,
   "metadata": {},
   "outputs": [
    {
     "name": "stdout",
     "output_type": "stream",
     "text": []
    }
   ],
   "source": []
  },
  {
   "cell_type": "markdown",
   "metadata": {},
   "source": [
    "**WU-7** Using the relationship in the previous question for inspiration, propose an experiment that would allow you to measure the entropy of a substance in the lab.\n"
   ]
  },
  {
   "cell_type": "code",
   "execution_count": 1,
   "metadata": {},
   "outputs": [
    {
     "name": "stdout",
     "output_type": "stream",
     "text": []
    }
   ],
   "source": []
  },
  {
   "cell_type": "markdown",
   "metadata": {},
   "source": [
    "**WU-8**  Predict whether the isobaric heat capacity, $C_p$, for a substance in a given phase should increase, decrease, or remain constant as $T$ increases. Explain your reasoning.\n"
   ]
  },
  {
   "cell_type": "code",
   "execution_count": 1,
   "metadata": {},
   "outputs": [
    {
     "name": "stdout",
     "output_type": "stream",
     "text": []
    }
   ],
   "source": []
  },
  {
   "cell_type": "markdown",
   "metadata": {
    "il": null
   },
   "source": [
    "\n",
    "# How to calculate the heat capacity of Ag(s) as a function of temperature\n",
    "\n"
   ]
  },
  {
   "cell_type": "markdown",
   "metadata": {},
   "source": [
    "Procedure for modeling $C_p(T)$, which can then be used to calculate molar entropy:\n",
    "\n",
    "1.  import and fit experimental $C_p$ data to a polynomial\n",
    "2.  assess quality of fit using <a href=\"https://en.wikipedia.org/wiki/Residual_sum_of_squares\">Residual Sum of Squares</a> (RSS), also known as the Sum of Squares Error (SSE)\n",
    "3.  calculate $S(T)$ over experimental temperature range, $S(T) = \\int_{T_i}^{T_f} \\frac{C_P}{T}\\; dT$\n",
    "4.  apply Debye approximation for heat capacity at low temperatures\n"
   ]
  },
  {
   "cell_type": "markdown",
   "metadata": {
    "il": null
   },
   "source": [
    "\n",
    "## Import and visualize experimental data\n",
    "\n"
   ]
  },
  {
   "cell_type": "markdown",
   "metadata": {},
   "source": [
    "Examine the data file for headers and format.\n"
   ]
  },
  {
   "cell_type": "code",
   "execution_count": 1,
   "metadata": {},
   "outputs": [
    {
     "name": "stdout",
     "output_type": "stream",
     "text": []
    }
   ],
   "source": [
    "!head -n 5 cpSilver.csv"
   ]
  },
  {
   "cell_type": "markdown",
   "metadata": {},
   "source": [
    "**CTQ-1** What are the data, units, and delimiters in this file?\n"
   ]
  },
  {
   "cell_type": "code",
   "execution_count": 1,
   "metadata": {},
   "outputs": [
    {
     "name": "stdout",
     "output_type": "stream",
     "text": []
    }
   ],
   "source": []
  },
  {
   "cell_type": "markdown",
   "metadata": {},
   "source": [
    "**Exercise 1**\n",
    "Modify this code block to import the silver heat capacity data into numpy arrays and plot the data to visualize the temperature dependence.\n"
   ]
  },
  {
   "cell_type": "code",
   "execution_count": 1,
   "metadata": {},
   "outputs": [
    {
     "name": "stdout",
     "output_type": "stream",
     "text": []
    }
   ],
   "source": [
    "# Ts, Cps = np.genfromtxt('filename.csv', delimiter='some delimiter', unpack=True, skip_header=1)\n",
    "# ... "
   ]
  },
  {
   "cell_type": "markdown",
   "metadata": {},
   "source": [
    "**CTQ-2** a) Does the plot agree with your prediction in WU-8? b) Does your group think the curve has a recognizable shape (e.g., quadratic, exponential, reciprocal)?\n"
   ]
  },
  {
   "cell_type": "code",
   "execution_count": 1,
   "metadata": {},
   "outputs": [
    {
     "name": "stdout",
     "output_type": "stream",
     "text": []
    }
   ],
   "source": []
  },
  {
   "cell_type": "markdown",
   "metadata": {},
   "source": [
    "**CTQ-3** In your paper notebook or Jupyter notebook, capture the steps used and any \"gotchas\" for visualizing experimental data using python.\n"
   ]
  },
  {
   "cell_type": "code",
   "execution_count": 1,
   "metadata": {},
   "outputs": [
    {
     "name": "stdout",
     "output_type": "stream",
     "text": []
    }
   ],
   "source": []
  },
  {
   "cell_type": "markdown",
   "metadata": {
    "il": null
   },
   "source": [
    "\n",
    "## Fitting $C_p$ data to a polynomial\n",
    "\n"
   ]
  },
  {
   "cell_type": "markdown",
   "metadata": {},
   "source": [
    "**Worked Example**   \n",
    "Plan: Fit $C_p$ data to a polynomial of degree $n$ and plot the fit with experimental data. Assess the quality of fit using <a href=\"https://en.wikipedia.org/wiki/Residual_sum_of_squares\">RSS</a> and the variance. Smaller values for RSS and variance suggest a better fit to the data.\n"
   ]
  },
  {
   "cell_type": "code",
   "execution_count": 1,
   "metadata": {},
   "outputs": [
    {
     "name": "stdout",
     "output_type": "stream",
     "text": []
    }
   ],
   "source": [
    "n = 2  # Cp vs T doesn't look linear, so n=1 is not a good choice.\n",
    "fit = polyfit(Ts, Cps, n)\n",
    "fitvalues = polyval(Ts, fit)\n",
    "\n",
    "rss = np.sum((Cps - fitvalues)**2)\n",
    "variance = rss / (len(Cps)-1)\n",
    "print(f\"n={n}, rss={rss:.2f}, variance={variance:.2e}\")\n",
    "\n",
    "fig, ax = plt.subplots()\n",
    "ax.plot(Ts, Cps, 'o')\n",
    "ax.plot(Ts, fitvalues)"
   ]
  },
  {
   "cell_type": "markdown",
   "metadata": {},
   "source": [
    "The optimized polynomial coefficients are stored in the array named \"fit\". The coefficients can be printed:\n"
   ]
  },
  {
   "cell_type": "code",
   "execution_count": 1,
   "metadata": {},
   "outputs": [
    {
     "name": "stdout",
     "output_type": "stream",
     "text": []
    }
   ],
   "source": [
    "print(fit)\n",
    "print(Polynomial(fit))"
   ]
  },
  {
   "cell_type": "markdown",
   "metadata": {},
   "source": [
    "**CTQ-4** Examine the polynomial equation that polyfit found with $n=2$. Does the equation reflect the general trend of the data? How would you assess the quality of the fit?\n"
   ]
  },
  {
   "cell_type": "code",
   "execution_count": 1,
   "metadata": {},
   "outputs": [
    {
     "name": "stdout",
     "output_type": "stream",
     "text": []
    }
   ],
   "source": []
  },
  {
   "cell_type": "markdown",
   "metadata": {},
   "source": [
    "**CTQ-5** From the code above, write the mathematical expressions for RSS and variance. Identify each variable (explain what each variable is).\n"
   ]
  },
  {
   "cell_type": "code",
   "execution_count": 1,
   "metadata": {},
   "outputs": [
    {
     "name": "stdout",
     "output_type": "stream",
     "text": []
    }
   ],
   "source": []
  },
  {
   "cell_type": "markdown",
   "metadata": {},
   "source": [
    "**CTQ-6** How can RSS and variance be used to assess the quality of the fit?\n"
   ]
  },
  {
   "cell_type": "code",
   "execution_count": 1,
   "metadata": {},
   "outputs": [
    {
     "name": "stdout",
     "output_type": "stream",
     "text": []
    }
   ],
   "source": []
  },
  {
   "cell_type": "markdown",
   "metadata": {},
   "source": [
    "**CTQ-7** Based on the information above, could the heat capacity data be fit to a 12th order polynomial (n=12)?\n"
   ]
  },
  {
   "cell_type": "code",
   "execution_count": 1,
   "metadata": {},
   "outputs": [
    {
     "name": "stdout",
     "output_type": "stream",
     "text": []
    }
   ],
   "source": []
  },
  {
   "cell_type": "markdown",
   "metadata": {},
   "source": [
    "**Exercise 2**  \n",
    "Vary the value of $n$ and find a polynomial that fits the data well. Use the minimum number of fit parameters (terms in the polynomial) to obtain reasonable agreement.\n",
    "\n",
    "Tabulate n and goodness-of-fit measures for at least 5 different polynomials.\n"
   ]
  },
  {
   "cell_type": "code",
   "execution_count": 1,
   "metadata": {},
   "outputs": [
    {
     "name": "stdout",
     "output_type": "stream",
     "text": []
    }
   ],
   "source": []
  },
  {
   "cell_type": "markdown",
   "metadata": {},
   "source": [
    "**CTQ-8**\n",
    " Give the full mathematical expression for the polynomial that you chose as having the best fit, and explain your reasoning for choosing it.\n"
   ]
  },
  {
   "cell_type": "code",
   "execution_count": 1,
   "metadata": {},
   "outputs": [
    {
     "name": "stdout",
     "output_type": "stream",
     "text": []
    }
   ],
   "source": []
  },
  {
   "cell_type": "markdown",
   "metadata": {},
   "source": [
    "**CTQ-9** Are there disadvantages to fitting the heat capacity data to higher order polynomials (for example, 12th order)?\n"
   ]
  },
  {
   "cell_type": "code",
   "execution_count": 1,
   "metadata": {},
   "outputs": [
    {
     "name": "stdout",
     "output_type": "stream",
     "text": []
    }
   ],
   "source": []
  },
  {
   "cell_type": "markdown",
   "metadata": {
    "il": null
   },
   "source": [
    "\n",
    "## How many fitting parameters should be used?\n",
    "\n"
   ]
  },
  {
   "cell_type": "markdown",
   "metadata": {},
   "source": [
    "In experimental settings, <a href=\"https://en.wikipedia.org/wiki/Overfitting\">overfitting</a>  refers to the situation where a statistical model or analysis captures noise or random fluctuations in the data rather than the true underlying relationships or patterns. Two common ways overfitting can manifest in experimental data:\n",
    "\n",
    "-   Model Complexity: Using overly complex models (e.g., high-degree polynomials or intricate statistical models) can lead to fitting the noise in the data. This can result in misleading conclusions about the relationships between variables.\n",
    "-   Small Sample Sizes: When the sample size is small, there is a higher risk of overfitting because the model may be too closely tailored to the specific data points available.\n",
    "\n",
    "**Exercise 3**  \n",
    "Plot the model function polynomial with n=7 from 10K to 300K and from 10K to 400K or more. (Offset one of the curves by adding an arbitrary constant if you want to plot both curves on the same axes.)\n"
   ]
  },
  {
   "cell_type": "code",
   "execution_count": 1,
   "metadata": {},
   "outputs": [
    {
     "name": "stdout",
     "output_type": "stream",
     "text": []
    }
   ],
   "source": []
  },
  {
   "cell_type": "markdown",
   "metadata": {},
   "source": [
    "**CTQ-10**  Assess the ability of the n=7 polynomial model to predict $Cp$ at temperatures above 300K. What might be limiting the predictive ability of the model?\n"
   ]
  },
  {
   "cell_type": "code",
   "execution_count": 1,
   "metadata": {},
   "outputs": [
    {
     "name": "stdout",
     "output_type": "stream",
     "text": []
    }
   ],
   "source": []
  },
  {
   "cell_type": "markdown",
   "metadata": {},
   "source": [
    "**CTQ-11** Are there disadvantages to fitting the heat capacity data to a high-order polynomial?\n"
   ]
  },
  {
   "cell_type": "markdown",
   "metadata": {
    "il": null
   },
   "source": [
    "\n",
    "## Calculate entropy over the measured temperature range\n",
    "\n"
   ]
  },
  {
   "cell_type": "markdown",
   "metadata": {},
   "source": [
    "**CTQ-12** Write the expression relating $S$ to $C_p(T)$.\n"
   ]
  },
  {
   "cell_type": "code",
   "execution_count": 1,
   "metadata": {},
   "outputs": [
    {
     "name": "stdout",
     "output_type": "stream",
     "text": []
    }
   ],
   "source": []
  },
  {
   "cell_type": "markdown",
   "metadata": {},
   "source": [
    "**Exercise 4**  \n",
    "Use the best-fit polynomial you chose above to calculate $S$ over the measured temperature range. The functions <a href=\"https://docs.scipy.org/doc/scipy/reference/generated/scipy.integrate.trapezoid.html#scipy.integrate.trapezoid\">trapezoid</a>, <a href=\"https://docs.scipy.org/doc/scipy/reference/generated/scipy.integrate.simpson.html#scipy.integrate.simpson\">simpson</a>, and <a href=\"https://docs.scipy.org/doc/scipy/reference/generated/scipy.integrate.quad.html#scipy.integrate.quad\">quad</a> all perform numerical integration. Giauque reports a value around 40 J/mol K using graphical integration.\n"
   ]
  },
  {
   "cell_type": "code",
   "execution_count": 1,
   "metadata": {},
   "outputs": [
    {
     "name": "stdout",
     "output_type": "stream",
     "text": []
    }
   ],
   "source": []
  },
  {
   "cell_type": "markdown",
   "metadata": {
    "il": null
   },
   "source": [
    "\n",
    "## Adding the Debye extrapolation\n",
    "\n"
   ]
  },
  {
   "cell_type": "markdown",
   "metadata": {},
   "source": [
    "Note there are no experimental data below about 10K. Because it is difficult to measure heat capacity at low temperatures (how would you design a calorimeter that works at a few Kelvin?), the <a href=\"https://en.wikipedia.org/wiki/Debye_model\">Debye model</a> is often used to cover temperatures from 0 K to the lowest temperature that can be measured experimentally.\n",
    "\n",
    "At low temperatures, many substances follow the relationship\n",
    "$$C_p = aT^3 $$\n",
    "where $a$ is an empirical constant.\n",
    "\n",
    "**CTQ-13** Show that\n",
    "$$ S(T_{low}) = \\dfrac{aT_{low}^3}{3}$$\n",
    "\n",
    "**Exercise 5**  \n",
    "Using $C_p$ at $T_{low}$, determine $a$ for silver from the data. Next, calculate $S$ from 0 K to the lowest measured temperature in the data.\n"
   ]
  },
  {
   "cell_type": "code",
   "execution_count": 1,
   "metadata": {},
   "outputs": [
    {
     "name": "stdout",
     "output_type": "stream",
     "text": []
    }
   ],
   "source": []
  },
  {
   "cell_type": "markdown",
   "metadata": {
    "il": null
   },
   "source": [
    "\n",
    "## The whole picture\n",
    "\n"
   ]
  },
  {
   "cell_type": "markdown",
   "metadata": {},
   "source": [
    "**Exercise 6**  \n",
    "Calculate the total entropy from 0K to the maximum temperature in the data. \n"
   ]
  },
  {
   "cell_type": "code",
   "execution_count": 1,
   "metadata": {},
   "outputs": [
    {
     "name": "stdout",
     "output_type": "stream",
     "text": []
    }
   ],
   "source": []
  },
  {
   "cell_type": "markdown",
   "metadata": {},
   "source": [
    "****CTQ-14**** Find the molar entropy for Ag at 298.15K on the NIST Webbook or in the CRC Handbook and compare it to your result (quantify any differences).\n"
   ]
  },
  {
   "cell_type": "code",
   "execution_count": 1,
   "metadata": {},
   "outputs": [
    {
     "name": "stdout",
     "output_type": "stream",
     "text": []
    }
   ],
   "source": []
  },
  {
   "cell_type": "markdown",
   "metadata": {
    "il": null
   },
   "source": [
    "\n",
    "# How do the entropies of other substances compare to Ag?\n",
    "\n"
   ]
  },
  {
   "cell_type": "markdown",
   "metadata": {},
   "source": [
    "Each person in the group choose one element from beryllium, gold, or copper (double up if necessary). \n",
    "\n",
    "****CTQ-15**** Make a prediction: How will the molar entropy of your element compare to that of Ag over the same temperature range? Explain your reasoning.\n"
   ]
  },
  {
   "cell_type": "code",
   "execution_count": 1,
   "metadata": {},
   "outputs": [
    {
     "name": "stdout",
     "output_type": "stream",
     "text": []
    }
   ],
   "source": []
  },
  {
   "cell_type": "markdown",
   "metadata": {},
   "source": [
    "****CTQ-16**** As a group (without referring to outside sources) arrange the elements in order of *increasing* molar entropy. Explain your reasoning.\n"
   ]
  },
  {
   "cell_type": "code",
   "execution_count": 1,
   "metadata": {},
   "outputs": [
    {
     "name": "stdout",
     "output_type": "stream",
     "text": []
    }
   ],
   "source": []
  },
  {
   "cell_type": "markdown",
   "metadata": {
    "il": null
   },
   "source": [
    "\n",
    "# What is the entropy of my element?\n",
    "\n"
   ]
  },
  {
   "cell_type": "markdown",
   "metadata": {},
   "source": [
    "****Exercise 7****  \n",
    "Use Cp/temperature data to determine the molar entropy of your element from 0 to 298K. This cell will list available data files.\n"
   ]
  },
  {
   "cell_type": "code",
   "execution_count": 1,
   "metadata": {},
   "outputs": [
    {
     "name": "stdout",
     "output_type": "stream",
     "text": []
    }
   ],
   "source": [
    "# list csv data files\n",
    "import glob; glob.glob(\"*.csv\")"
   ]
  },
  {
   "cell_type": "markdown",
   "metadata": {},
   "source": [
    "****CTQ-17**** Compare the entropy to that found on the NIST Webbook or in the CRC Handbook and to your prediction. Cite your reference.\n"
   ]
  },
  {
   "cell_type": "code",
   "execution_count": 1,
   "metadata": {},
   "outputs": [
    {
     "name": "stdout",
     "output_type": "stream",
     "text": []
    }
   ],
   "source": []
  },
  {
   "cell_type": "markdown",
   "metadata": {},
   "source": [
    "****CTQ-18**** Pool the groups results for all of the elements. Was the predicted order correct? if not, what may have led to an unsupported prediction.\n"
   ]
  },
  {
   "cell_type": "code",
   "execution_count": 1,
   "metadata": {},
   "outputs": [
    {
     "name": "stdout",
     "output_type": "stream",
     "text": []
    }
   ],
   "source": []
  },
  {
   "cell_type": "markdown",
   "metadata": {},
   "source": [
    "****CTQ-19**** Briefly summarize the mathematical relationships and process used to obtain the molar entropy of a substance in a single phase.\n"
   ]
  },
  {
   "cell_type": "code",
   "execution_count": 1,
   "metadata": {},
   "outputs": [
    {
     "name": "stdout",
     "output_type": "stream",
     "text": []
    }
   ],
   "source": []
  },
  {
   "cell_type": "markdown",
   "metadata": {
    "il": null
   },
   "source": [
    "\n",
    "# Reflection\n",
    "\n"
   ]
  },
  {
   "cell_type": "markdown",
   "metadata": {},
   "source": [
    "On your own, review the Content and Process Objectives at the beginning of the activity. Identify which of the objectives you feel you meet and those that may need more work; explain reasoning for your assessment.\n"
   ]
  },
  {
   "cell_type": "code",
   "execution_count": 1,
   "metadata": {},
   "outputs": [
    {
     "name": "stdout",
     "output_type": "stream",
     "text": []
    }
   ],
   "source": []
  },
  {
   "cell_type": "markdown",
   "metadata": {},
   "source": [
    "Identify parts of the activity that stood out as surprising, interesting, or confusing, and please explain why.\n"
   ]
  },
  {
   "cell_type": "code",
   "execution_count": 1,
   "metadata": {},
   "outputs": [
    {
     "name": "stdout",
     "output_type": "stream",
     "text": []
    }
   ],
   "source": []
  },
  {
   "cell_type": "markdown",
   "metadata": {
    "il": null
   },
   "source": [
    "\n",
    "# References\n",
    "\n"
   ]
  },
  {
   "cell_type": "markdown",
   "metadata": {},
   "source": [
    "Engle and Reid, *Physical Chemistry*, 3rd ed., Pearson, 2013.\n",
    "\n",
    "McQuarrie and Simon, *Physical Chemistry: A Molecular Approach*, University Science Books, 1997\n",
    "\n",
    "T. Grubbs, LibreTexts: Data Driven Exercises <a href=\"https://chem.libretexts.org/Bookshelves/Physical_and_Theoretical_Chemistry_Textbook_Maps/Exercises%3A_Physical_and_Theoretical_Chemistry/Data-Driven_Exercises/Standard_Molar_Entropy_of_Aluminum_Oxide\">Molar Enthalpy of Al2O3</a> (accessed 2025-06)\n",
    "\n",
    "Hamilton and Zielinski, \"Conventional Entropies and the Third Law of Thermodynamics\", Symmath Project (defunct)\n"
   ]
  },
  {
   "cell_type": "markdown",
   "metadata": {
    "il": null
   },
   "source": [
    "\n",
    "# Acknowledgement\n",
    "\n"
   ]
  },
  {
   "cell_type": "markdown",
   "metadata": {},
   "source": [
    "<a href=\"https://act-cms.molssi.org/\">ACT-CMS</a> is funded by the National Science Foundation Training-based Workforce Development for Advanced Cyberinfrastructure program (OAC 2321044,OAC 2321045).\n"
   ]
  }
 ],
 "metadata": {
  "il": null,
  "kernelspec": {
   "display_name": "Python 3",
   "language": "python",
   "name": "python3"
  },
  "language_info": {
   "codemirror_mode": {
    "name": "ipython",
    "version": 3
   },
   "file_extension": ".py",
   "mimetype": "text/x-python",
   "name": "python",
   "nbconvert_exporter": "python",
   "pygments_lexer": "ipython3",
   "version": "3.5.2"
  }
 },
 "nbformat": 4,
 "nbformat_minor": 4
}
