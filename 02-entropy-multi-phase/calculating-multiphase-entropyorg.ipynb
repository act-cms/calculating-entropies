{
 "cells": [
  {
   "cell_type": "markdown",
   "id": "b0c7730c-9491-429a-b2b8-ee20000fe729",
   "metadata": {},
   "source": [
    "## How do we calculate total entropy if there are phase changes?\n",
    "\n"
   ]
  },
  {
   "cell_type": "markdown",
   "id": "6803a935-5532-4dc7-916c-dcb050c70297",
   "metadata": {},
   "source": [
    "Entropy is a key factor in determining the spontaneity and direction of chemical reactions. By calculating the change in absolute entropy for a reaction, one can predict whether the reaction will occur spontaneously or not.\n",
    "\n",
    "Knowing the absolute entropy of substances is important to various fields, such as materials science, chemical engineering, and energy systems, where it can inform the design and optimization of processes and technologies; biochemistry for understanding protein folding, enzyme catalysis, and transport processes; astronomy and cosmology to describe stellar evolution, black hole thermodynamics, galaxy formation, and the fate of the universe.\n",
    "\n",
    "Goal: Calculate the total entropy of nitromethane from 0 to 297K, through two phase changes.\n",
    "\n"
   ]
  },
  {
   "cell_type": "markdown",
   "id": "34771652-b89c-457d-b25c-e729fe1b4373",
   "metadata": {},
   "source": [
    "### Content Objectives\n",
    "\n"
   ]
  },
  {
   "cell_type": "markdown",
   "id": "4e064ca1-21c6-45f1-8714-8d7d9a2bfe28",
   "metadata": {},
   "source": [
    "After completing this activity, you should be able to\n",
    "\n",
    "-   Apply the third law of thermodynamics\n",
    "-   Calculate $S$ for warming a substance in a single phase\n",
    "-   Calculate $S$ for phase transitions\n",
    "\n"
   ]
  },
  {
   "cell_type": "markdown",
   "id": "35e0c874-41f0-44e9-bf6f-719b4abb8d93",
   "metadata": {},
   "source": [
    "### Process Objectives\n",
    "\n"
   ]
  },
  {
   "cell_type": "markdown",
   "id": "e8fcf746-83b4-4be8-ab2d-39a290258e71",
   "metadata": {},
   "source": [
    "After completing this activity, you should be able to\n",
    "\n",
    "-   Fit experimental data to polynomial functions\n",
    "-   Plot data and fits\n",
    "-   Numerically integrate functions\n",
    "-   Use numpy array indexing\n",
    "\n"
   ]
  },
  {
   "cell_type": "markdown",
   "id": "a41c7bfa-15c9-445d-9e66-a28685f39e85",
   "metadata": {},
   "source": [
    "### Prerequisites\n",
    "\n"
   ]
  },
  {
   "cell_type": "markdown",
   "id": "795aa0ad-9f8f-4a3d-bebe-2191eded5ceb",
   "metadata": {},
   "source": [
    "This activity assumes you are generally familiar with these concepts and skills\n",
    "\n",
    "-   Using $C_p$ to calculate $S$ over a temperature range\n",
    "-   Using the Debye relationship for approximating entropy at low temperatures\n",
    "-   Importing data from a file\n",
    "-   Fitting data using polynomials\n",
    "\n"
   ]
  },
  {
   "cell_type": "markdown",
   "id": "63d8a6e5-8695-4983-bf63-5bf2ed277be6",
   "metadata": {},
   "source": [
    "### Python Environment\n",
    "\n"
   ]
  },
  {
   "cell_type": "code",
   "execution_count": null,
   "id": "ca410b0e-3a97-40bf-9cfa-e0025ee66ec9",
   "metadata": {},
   "outputs": [],
   "source": [
    "import matplotlib.pyplot as plt\n",
    "import numpy as np\n",
    "from numpy.polynomial.polynomial import polyfit, polyval, Polynomial\n",
    "from scipy.integrate import trapezoid, simpson, quad"
   ]
  },
  {
   "cell_type": "markdown",
   "id": "82f790c3-7248-4072-b44f-aa8cc31bc829",
   "metadata": {},
   "source": [
    "## Warm Up\n",
    "\n"
   ]
  },
  {
   "cell_type": "markdown",
   "id": "f04024f1-eb22-468a-b3a1-2e9f93263325",
   "metadata": {},
   "source": [
    "Answer questions individually and then confer with your group for consensus before proceeding.\n",
    "\n",
    "**WU 1**. On your own, draw a Lewis diagram for nitromethane, CH₃NO₂. Verify your answer with group or online reference.\n",
    "\n"
   ]
  },
  {
   "cell_type": "code",
   "execution_count": null,
   "id": "f14e918a-85d2-4483-837f-a1425602f6ab",
   "metadata": {},
   "outputs": [],
   "source": []
  },
  {
   "cell_type": "markdown",
   "id": "cd524f78-0776-4944-a686-da07a2bafbe5",
   "metadata": {},
   "source": [
    "**WU 2**. Write a working definition for the third law of thermodynamics.\n",
    "\n"
   ]
  },
  {
   "cell_type": "code",
   "execution_count": null,
   "id": "b85997a2-6208-4856-b5be-b21266596ae2",
   "metadata": {},
   "outputs": [],
   "source": []
  },
  {
   "cell_type": "markdown",
   "id": "f240d06e-4891-4d80-b54b-097870aa3071",
   "metadata": {},
   "source": [
    "**WU 3**. For most substances is the change in enthalpy for solid $\\rightarrow$ liquid positive or negative? Explain your reasoning by describing where energy is &ldquo;going to&rdquo; from a molecular point of view.\n",
    "\n"
   ]
  },
  {
   "cell_type": "code",
   "execution_count": null,
   "id": "077703a3-9b52-4ec8-929f-a02d25560f4d",
   "metadata": {},
   "outputs": [],
   "source": []
  },
  {
   "cell_type": "markdown",
   "id": "04011349-ce94-421f-8806-51c758360def",
   "metadata": {},
   "source": [
    "**WU 4**. When energy (as heat) is added to a substance, how does the temperature change for the process s $\\rightarrow$ l? (increase, decrease, remain constant).\n",
    "\n"
   ]
  },
  {
   "cell_type": "code",
   "execution_count": null,
   "id": "ac764f58-9f10-4e6a-ace6-8123f6849181",
   "metadata": {},
   "outputs": [],
   "source": []
  },
  {
   "cell_type": "markdown",
   "id": "d3639dee-6d8f-4f31-b63c-293bba01c366",
   "metadata": {},
   "source": [
    "**WU 5**. Explain where the energy &ldquo;goes to&rdquo; in the previous question if T is constant.\n",
    "\n"
   ]
  },
  {
   "cell_type": "code",
   "execution_count": null,
   "id": "46a8697a-459a-4836-8a6b-620b3e239da0",
   "metadata": {},
   "outputs": [],
   "source": []
  },
  {
   "cell_type": "markdown",
   "id": "87c148bc-09ab-483a-b54f-2dff0348dce7",
   "metadata": {},
   "source": [
    "**WU 6**. Write the expression that relates S (entropy) to H at constant T.\n",
    "\n"
   ]
  },
  {
   "cell_type": "code",
   "execution_count": null,
   "id": "9bc93d59-9693-4fae-a66e-1fca085968df",
   "metadata": {},
   "outputs": [],
   "source": []
  },
  {
   "cell_type": "markdown",
   "id": "21ee17e6-7a0b-4d32-959e-4982fa7c9625",
   "metadata": {},
   "source": [
    "**WU 7**. Predict how the heat capacity of a substance will change between the solid and liquid phases (increase, decrease, remain constant). Explain reasoning.\n",
    "\n"
   ]
  },
  {
   "cell_type": "code",
   "execution_count": null,
   "id": "ccf382df-9c39-43b1-ad41-87569db6d8d3",
   "metadata": {},
   "outputs": [],
   "source": []
  },
  {
   "cell_type": "markdown",
   "id": "06209d8d-6573-4fe1-8b0b-d89f18f7a6d5",
   "metadata": {},
   "source": [
    "**WU 8**. Using your answer to the previous question, predict how the entropy of a substance will change between solid and liquid phases. Explain reasoning.\n",
    "\n"
   ]
  },
  {
   "cell_type": "code",
   "execution_count": null,
   "id": "3be9166c-7512-47ca-80bc-45bf6bb47768",
   "metadata": {},
   "outputs": [],
   "source": []
  },
  {
   "cell_type": "markdown",
   "id": "879e439a-002d-49af-ac35-59b22bc2cff2",
   "metadata": {},
   "source": [
    "**WU 9**. Predict how the entropy of a substance will change between the liquid and gas phases. Explain reasoning.\n",
    "\n"
   ]
  },
  {
   "cell_type": "code",
   "execution_count": null,
   "id": "e84bbf8f-ceca-44ee-bf2b-906b509fe9bd",
   "metadata": {},
   "outputs": [],
   "source": []
  },
  {
   "cell_type": "markdown",
   "id": "57c543ca-4628-49a8-a840-3a6869d50fbe",
   "metadata": {},
   "source": [
    "**WU 10**. Figure 1 is a plot of entropy vs temperature for a substance:  \n",
    "\n",
    "![img](SvsT.png)\n",
    "\n",
    "a) Identify what physical process is happening in each region of Figure 1.\n",
    "\n"
   ]
  },
  {
   "cell_type": "code",
   "execution_count": null,
   "id": "986c19f4-c45c-4c5d-8e17-7f89dd891088",
   "metadata": {},
   "outputs": [],
   "source": []
  },
  {
   "cell_type": "markdown",
   "id": "58c9e4f2-caa6-49c6-8c27-367e4ff5e6e5",
   "metadata": {},
   "source": [
    "b) If you wanted to calculate the total entropy of this substance over the temperature range shown, what equation(s) would be useful?\n",
    "\n"
   ]
  },
  {
   "cell_type": "code",
   "execution_count": null,
   "id": "d509a35d-3896-495c-ab02-4db8a294b9c3",
   "metadata": {},
   "outputs": [],
   "source": []
  },
  {
   "cell_type": "markdown",
   "id": "faef3430-84cb-4462-a665-786be0ac4d8f",
   "metadata": {},
   "source": [
    "## What is the molar entropy of CH<sub>3</sub>NO<sub>2</sub> over several phases?\n",
    "\n"
   ]
  },
  {
   "cell_type": "markdown",
   "id": "cc43857a-d8d0-4a63-9e3c-644fc721d351",
   "metadata": {},
   "source": [
    "If we want to model the total entropy of a substance using the third law of thermodynamics, we need to calculate each term in this thing (Engle & Reid):\n",
    "\n",
    "$$\\begin{align*}\n",
    "     S_{m}(T) &= \\int_{0}^{T_f} C_{p,m}^{solid} \\frac{dT}{T} + \\frac{\\Delta H_{fusion}}{T_f} + \\int_{T_f}^{T_b} C_{p,m}^{liquid} \\frac{dT}{T}\\\\\n",
    "     &+  \\frac{\\Delta H_{vaporization}}{T_b} + \\int_{T_b}^{T} \\frac{C_{p,m}^{gas}}{T}  \\tag*{(1)} \\end{align*}\n",
    "    $$\n",
    "\n",
    "**CTQ 1** Assign each term in $S_m$ to a feature in the plot shown in WU-10. What does the $m$ mean? (This may best be done on paper; possibly paste a picture of your work into a markdown cell if your Jupyter implementation supports this.).\n",
    "\n"
   ]
  },
  {
   "cell_type": "code",
   "execution_count": null,
   "id": "593c5607-4221-44ee-9241-ec10d7624b80",
   "metadata": {},
   "outputs": [],
   "source": []
  },
  {
   "cell_type": "markdown",
   "id": "90073ec8-48ee-477f-a4dd-d2047ba47dc6",
   "metadata": {},
   "source": [
    "**CTQ 2** In words, what are the integral limits for the first, third, and fifth terms in Eq 1?\n",
    "\n"
   ]
  },
  {
   "cell_type": "code",
   "execution_count": null,
   "id": "d7b06576-91b1-42bf-b9b9-ac57261ff432",
   "metadata": {},
   "outputs": [],
   "source": []
  },
  {
   "cell_type": "markdown",
   "id": "cb082aa8-907c-4b04-9c1d-b8b3173bae42",
   "metadata": {},
   "source": [
    "## Term 1: $S$ of warming the solid\n",
    "\n"
   ]
  },
  {
   "cell_type": "markdown",
   "id": "d5d68de8-009f-4152-983c-8a60c2c7067f",
   "metadata": {},
   "source": [
    "A plan for calculating the first term in Eq(1), the entropy of CH<sub>3</sub>NO<sub>2</sub>(s) over a temperature range:\n",
    "\n",
    "1.  Import experimental data\n",
    "2.  Fit data to polynomial\n",
    "3.  Compute the entropy for the solid over the measured temperature range\n",
    "4.  Compute low-temperature entropy, S<sub>low</sub>, using the Debye extrapolation.\n",
    "5.  Compute the total entropy for the solid phase, S<sub>s</sub>.\n",
    "\n",
    "To import the data, first look at the file structure.\n",
    "\n"
   ]
  },
  {
   "cell_type": "code",
   "execution_count": null,
   "id": "4df165ae-0249-4514-85fc-7949b511bbd4",
   "metadata": {},
   "outputs": [],
   "source": [
    "!head -n 8 cpCH3NO2.csv"
   ]
  },
  {
   "cell_type": "markdown",
   "id": "cd598886-67f1-40ae-906a-8bae3f2594e5",
   "metadata": {},
   "source": [
    "**CTQ 3** What information is given in the file header and what units are used?\n",
    "\n"
   ]
  },
  {
   "cell_type": "code",
   "execution_count": null,
   "id": "9c954648-5a76-4e04-85e7-67033d7e21ef",
   "metadata": {},
   "outputs": [],
   "source": []
  },
  {
   "cell_type": "markdown",
   "id": "cf153ed3-829c-481f-9ad9-b2cbf7aff946",
   "metadata": {},
   "source": [
    "**Information:** The measurements for all phases are in a single data file; it will be necessary to subset the data for each phase using the given melting and boiling points. Numpy array indexes accept conditions and select items meeting the conditions. Two common ways of selecting subsets are boolean indexing (filter based on the truth of a condition) or the `np.where()` function. Boolean indexing is shown here. To use Boolean indexing with multiple conditions, combine them using &ldquo;&&rdquo;. An example:\n",
    "\n"
   ]
  },
  {
   "cell_type": "code",
   "execution_count": null,
   "id": "9c072035-6f5e-47f6-b7d5-14a02204a0cb",
   "metadata": {},
   "outputs": [],
   "source": [
    "A = np.array(range(11))\n",
    "B = A[(A<5)]\n",
    "C = A[(A>2) & (A<7)]\n",
    "print(A)\n",
    "print(B)\n",
    "print(C)"
   ]
  },
  {
   "cell_type": "markdown",
   "id": "b87e06a0-e175-46fb-846c-85bee1ff8f48",
   "metadata": {},
   "source": [
    "**Exercise 1**  \n",
    "Write a code cell that reads the solid-phase data into arrays T<sub>s</sub>, Cp<sub>s</sub>.\n",
    "\n"
   ]
  },
  {
   "cell_type": "code",
   "execution_count": null,
   "id": "e76433a6-ef3b-4d43-a9b1-9f3e8ccecc12",
   "metadata": {},
   "outputs": [],
   "source": [
    "# T, Cp = np.genfromtxt('filename.csv', unpack=True, comments=...)\n",
    "# identify the mp and bp values\n",
    "# ...\n",
    "# T_s = subset of array T with temps < mp; these are \"solid\" temperatures\n",
    "# Cp_s =  subset of Cp with temps < mp; \"solid\" heat capacities\n",
    "#\n",
    "# Verify the arrays agree with values from the data file;\n",
    "# they should look something like this:\n",
    "# T_s = [ 13.17 14.25 15.94 ... 226.85 230.93 235.46 ]\n",
    "# Cp_s = [ 0.698 0.795 1.042 ... 18.79 19.52 21.03 ]"
   ]
  },
  {
   "cell_type": "code",
   "execution_count": null,
   "id": "cbfda33a-63c4-4bc8-bd95-06e83b6bf000",
   "metadata": {},
   "outputs": [],
   "source": []
  },
  {
   "cell_type": "markdown",
   "id": "b57c85b2-04ce-4816-8977-beb842020063",
   "metadata": {},
   "source": [
    "**CTQ 4** a) Compare the length and content of T to T_s (all temperatures and &ldquo;solid temperatures&rdquo;, respectively) and Cp to Cp_s; are the arrays consistent? b) Print the temperatures below 30K.\n",
    "\n"
   ]
  },
  {
   "cell_type": "code",
   "execution_count": null,
   "id": "e21ec597-99ab-4211-97b7-10f7f014ad80",
   "metadata": {},
   "outputs": [],
   "source": []
  },
  {
   "cell_type": "markdown",
   "id": "c94f3727-b639-43f4-a5a1-19d77fca8b66",
   "metadata": {},
   "source": [
    "**Exercise 2**   \n",
    "Fit the solid phase data to a polynomial. Print the polynomial function with coefficients, and make a plot showing the data and the fit.\n",
    "\n"
   ]
  },
  {
   "cell_type": "code",
   "execution_count": null,
   "id": "6535f9a5-ba0e-4184-b294-2923b210c462",
   "metadata": {},
   "outputs": [],
   "source": []
  },
  {
   "cell_type": "markdown",
   "id": "62ffa5a9-208d-4e69-85cf-d3218007f61b",
   "metadata": {},
   "source": [
    "**Exercise 3**  \n",
    "Calculate $S$ over the measured temperature range and calculate $S_{\\rm low}$ using the Debye approximation. Sum these values and print the molar entropy for CH<sub>3</sub>NO<sub>2</sub>(s) with units and sensible significant figures.\n",
    "\n"
   ]
  },
  {
   "cell_type": "code",
   "execution_count": null,
   "id": "c817f73f-9a55-4819-a765-2a576f5cc273",
   "metadata": {},
   "outputs": [],
   "source": []
  },
  {
   "cell_type": "markdown",
   "id": "0b811c04-8514-4c5b-9e40-35354686ecc4",
   "metadata": {},
   "source": [
    "**CTQ 5** Jones and Giauque reported the entropy of CH<sub>3</sub>NO<sub>2</sub>(s) is 26.2 cal/mol K. How does your value compare to theirs? If there are differences, what might they be attributed to?\n",
    "\n"
   ]
  },
  {
   "cell_type": "code",
   "execution_count": null,
   "id": "3551b512-b75f-4749-92f8-5efa71b587ec",
   "metadata": {},
   "outputs": [],
   "source": []
  },
  {
   "cell_type": "markdown",
   "id": "4e87cc96-6a5f-40da-9cb5-a17b8e7f3b56",
   "metadata": {},
   "source": [
    "## Term 2: Entropy of fusion/melting\n",
    "\n"
   ]
  },
  {
   "cell_type": "markdown",
   "id": "5682f977-1159-4f7e-a827-189a95bb9f76",
   "metadata": {},
   "source": [
    "The molar entropy associated with the melting process is\n",
    "$$\\overline{S} = \\frac{\\Delta H_f}{T_f} $$\n",
    "\n",
    "**CTQ 6** Does this expression agree with your answer in WU 6?\n",
    "\n"
   ]
  },
  {
   "cell_type": "code",
   "execution_count": null,
   "id": "7fa86853-df18-4167-a0ca-16ec4ba7d22d",
   "metadata": {},
   "outputs": [],
   "source": []
  },
  {
   "cell_type": "markdown",
   "id": "97f48e04-8a06-4b70-9070-5aebb0129857",
   "metadata": {},
   "source": [
    "**Exercise 4**  \n",
    "Calculate $S_{fus}$ the entropy associated with melting CH<sub>3</sub>NO<sub>2</sub>. Print this value with units and sensible significant figures. (For comparison, the literature value is on the order of 10 cal/mol K.)\n",
    "\n"
   ]
  },
  {
   "cell_type": "code",
   "execution_count": null,
   "id": "d97d425a-7c16-465f-8c17-ad9012978515",
   "metadata": {},
   "outputs": [],
   "source": []
  },
  {
   "cell_type": "markdown",
   "id": "03ebd170-6115-435d-80dd-b0d4e28f3653",
   "metadata": {},
   "source": [
    "**CTQ 7** How does the sign of this result compare to your answer for WU-7?\n",
    "\n"
   ]
  },
  {
   "cell_type": "code",
   "execution_count": null,
   "id": "53e4579b-0d0a-4195-8676-b2aad9719301",
   "metadata": {},
   "outputs": [],
   "source": []
  },
  {
   "cell_type": "markdown",
   "id": "5ed2191f-ba12-4d3e-aac8-6367b7f9ed4f",
   "metadata": {},
   "source": [
    "**CTQ 8** Which part of Figure 1 does this result correspond to?\n",
    "\n"
   ]
  },
  {
   "cell_type": "code",
   "execution_count": null,
   "id": "edf4e9a4-dba2-462c-9ffa-3f05302e6f3b",
   "metadata": {},
   "outputs": [],
   "source": []
  },
  {
   "cell_type": "markdown",
   "id": "15f13734-854b-410b-a343-977cc33a83d0",
   "metadata": {},
   "source": [
    "## Term 3: Entropy of CH₃NO₂(l)\n",
    "\n"
   ]
  },
  {
   "cell_type": "markdown",
   "id": "ba9cc0ad-296b-4bdd-ab2f-e768fde2dfff",
   "metadata": {},
   "source": [
    "The molar entropy of the liquid phase is\n",
    "$$\\overline{S} = \\int_{T_f}^{T_b} \\frac{\\overline{C}_P^{\\rm liquid}}{T}\\; dT $$\n",
    "\n",
    "**Exercise 5**  \n",
    "Compute $\\overline{S}$ for the liquid phase and plot $S$ vs $T$ for the measured temperature range. For reference, the literature value is about 5 cal/mol K.\n",
    "\n"
   ]
  },
  {
   "cell_type": "code",
   "execution_count": null,
   "id": "ab7e6e9d-18c2-40dd-b963-044e762623bf",
   "metadata": {},
   "outputs": [],
   "source": []
  },
  {
   "cell_type": "markdown",
   "id": "363233ce-e14a-4d99-83ed-399e098d8438",
   "metadata": {},
   "source": [
    "**CTQ 9** How does the change in entropy for the warming of CH<sub>3</sub>NO<sub>2</sub>(l) compare to the change in entropy for the warming of CH<sub>3</sub>NO<sub>2</sub>(s)? Why might this be the case?\n",
    "\n"
   ]
  },
  {
   "cell_type": "code",
   "execution_count": null,
   "id": "99c60752-e248-4b43-a9b2-ceda06027c12",
   "metadata": {},
   "outputs": [],
   "source": []
  },
  {
   "cell_type": "markdown",
   "id": "59c2c5d9-f3e8-454f-9aa7-2449a0765d56",
   "metadata": {},
   "source": [
    "## Term 4: Entropy of vaporization\n",
    "\n"
   ]
  },
  {
   "cell_type": "markdown",
   "id": "5abe4840-ec26-44ee-a889-6009214663be",
   "metadata": {},
   "source": [
    "**CTQ 10** Write the equation for $\\Delta \\overline{S}_{\\rm vap}$, the molar entropy of vaporization.\n",
    "\n"
   ]
  },
  {
   "cell_type": "code",
   "execution_count": null,
   "id": "774a9050-fc93-40cf-8e08-e8ef9c31acf9",
   "metadata": {},
   "outputs": [],
   "source": []
  },
  {
   "cell_type": "markdown",
   "id": "8ccdfa42-8e8e-416f-840c-10595b9351e9",
   "metadata": {},
   "source": [
    "**Exercise 1**   \n",
    "Compute $\\Delta S_{vap}$ for CH<sub>3</sub>NO<sub>2</sub> g &rarr; l.\n",
    "\n"
   ]
  },
  {
   "cell_type": "code",
   "execution_count": null,
   "id": "bf062aa2-1107-4529-9e93-83be34acc3d4",
   "metadata": {},
   "outputs": [],
   "source": []
  },
  {
   "cell_type": "markdown",
   "id": "11f1a0a5-e7f8-449a-a079-8d63a38c04f5",
   "metadata": {},
   "source": [
    "**CTQ 11** How do the values of $\\Delta S_{fus}$ and $\\Delta S_{vap}$ compare? Explain the similarities/differences from a molecular point of view.\n",
    "\n"
   ]
  },
  {
   "cell_type": "code",
   "execution_count": null,
   "id": "20abc9b9-488e-4d7d-ae7e-3a35e476e67f",
   "metadata": {},
   "outputs": [],
   "source": []
  },
  {
   "cell_type": "markdown",
   "id": "e526daec-d8d6-4db4-a257-c2b13c6c7c31",
   "metadata": {},
   "source": [
    "**CTQ 12** Which region of Figure 1 corresponds to $S_{vap}$?\n",
    "\n"
   ]
  },
  {
   "cell_type": "code",
   "execution_count": null,
   "id": "01c40452-f543-4907-892b-9962c829e0ea",
   "metadata": {},
   "outputs": [],
   "source": []
  },
  {
   "cell_type": "markdown",
   "id": "af818e7f-0a6f-4560-8eac-7b47e27ded35",
   "metadata": {},
   "source": [
    "## Term 5: Entropy of CH₃NO₂(g)\n",
    "\n"
   ]
  },
  {
   "cell_type": "markdown",
   "id": "7b7815f3-7eb4-4d8f-8577-fd06eb5ae1e6",
   "metadata": {},
   "source": [
    "**CTQ 13** Write the relationship that will be used to calculate $\\Delta \\overline{S}_g$, the molar gas phase entropy.\n",
    "\n"
   ]
  },
  {
   "cell_type": "code",
   "execution_count": null,
   "id": "67ac4e33-ec80-43ab-818c-f2c924ec33c0",
   "metadata": {},
   "outputs": [],
   "source": []
  },
  {
   "cell_type": "markdown",
   "id": "31716325-e138-4484-ae4b-411fd8de6e07",
   "metadata": {},
   "source": [
    "**Exercise 6**  \n",
    "Compute the change in entropy of gas phase. There are only a few data above the boiling point so a first-order polynomial (y=mx+b) is fine. Comment on the result (is it what you expected? how does it compare with your group mates? how does it compare to Figure 1?).\n",
    "\n"
   ]
  },
  {
   "cell_type": "code",
   "execution_count": null,
   "id": "f3d051a9-6559-4603-84ee-e24ccae8fecc",
   "metadata": {},
   "outputs": [],
   "source": []
  },
  {
   "cell_type": "markdown",
   "id": "0cbd29d8-29fd-44fb-a3a3-e9f16f1556c1",
   "metadata": {},
   "source": [
    "## Combining the contributions to S\n",
    "\n"
   ]
  },
  {
   "cell_type": "markdown",
   "id": "191719c5-0bfc-4930-8c76-47b2d0c4bdf9",
   "metadata": {},
   "source": [
    "**Information:** Figure 2 is a plot of $C_P$ vs $T$ for all of the experimental data.\n",
    "\n",
    "![img](./Cp-vs-T.png)\n",
    "\n",
    "**Exercise 7**  \n",
    "Tabulate the contributions to the overall entropy for the warming of each phase and for the phase transitions. Sum these contributions and report the molar entropy over the measured temperature range.\n",
    "\n"
   ]
  },
  {
   "cell_type": "code",
   "execution_count": null,
   "id": "3efa8413-86ba-40f6-b97d-993eae6a2df5",
   "metadata": {},
   "outputs": [],
   "source": []
  },
  {
   "cell_type": "markdown",
   "id": "c11dd1e1-b9b3-49d1-9c70-4fe67fd1fdae",
   "metadata": {},
   "source": [
    "**CTQ 14** How does the plot of $C_p$ vs $T$ above compare with your calculated values? (Remember the y-axis is $C_p$ not $S$.)\n",
    "\n"
   ]
  },
  {
   "cell_type": "code",
   "execution_count": null,
   "id": "2030adfd-8eeb-4b5f-96f0-9d9a17d5b7a1",
   "metadata": {},
   "outputs": [],
   "source": []
  },
  {
   "cell_type": "markdown",
   "id": "af95bcab-6829-4be4-b7d3-d1687e34e11c",
   "metadata": {},
   "source": [
    "**CTQ 15** Of the entropies tabulated, which is the largest contributor to the molar entropy?\n",
    "\n"
   ]
  },
  {
   "cell_type": "code",
   "execution_count": null,
   "id": "88fe3a4c-04b2-4d48-bb5a-01dcf20b55ff",
   "metadata": {},
   "outputs": [],
   "source": []
  },
  {
   "cell_type": "markdown",
   "id": "e8c0a2a0-5dc7-488b-a2d6-168efb19202f",
   "metadata": {},
   "source": [
    "**CTQ 16** Did the Cp for each phase behave as predicted in the WU questions? If not, what revisions should be made to explain the observed behavior?\n",
    "\n"
   ]
  },
  {
   "cell_type": "code",
   "execution_count": null,
   "id": "d47b1c51-62f0-499a-aa7a-677908a66196",
   "metadata": {},
   "outputs": [],
   "source": []
  },
  {
   "cell_type": "markdown",
   "id": "e7257a40-cf45-4c4f-8b75-732ccc65b379",
   "metadata": {},
   "source": [
    "**Information**  \n",
    "To make a plot of $S$ vs $T$, it is necessary to calculate $S=\\int_{T_1}^{T_2} C_p/T\\; dT$ *at each temperature*. This can be approximated as\n",
    "$$S(T) \\approx \\sum_{i=1}^n​ \\frac{C_p,i}{T_i}\\; \\Delta T$$\n",
    "where $\\Delta T$ is the difference between consecutive temperature values.\n",
    "\n",
    "The cumulative sum is calculated at each value of $T$ within a given phase. Next, $\\Delta S$ for a phase change is added, and then the cumulative sum for the next phase is calculated. This process is completed for all phases. Finally, $S(T)$ vs $T$ is plotted.\n",
    "\n",
    "**Worked Example**: Plot $S(T)$ vs $T$ for CH<sub>3</sub>NO<sub>2</sub> using the fit values determined for each phase (assumes consistent variable names). The result should like Figure 1.\n",
    "\n"
   ]
  },
  {
   "cell_type": "code",
   "execution_count": null,
   "id": "96e9a18a-e9d6-4411-b8b2-c7590ef4244a",
   "metadata": {},
   "outputs": [],
   "source": [
    "sm_s = np.cumsum(Cp_s/T_s)\n",
    "sm_l = S_fus + np.cumsum(Cp_l/T_l)\n",
    "sm_g = S_vap + np.cumsum(Cp_g/T_g)\n",
    "\n",
    "s = np.concatenate([sm_s, sm_l, sm_g]) # combine arrays into new array s\n",
    "\n",
    "# add entropy values at mp, bp to force vertical transitions. mp and bp are\n",
    "# duplicated to have points at the end of sm_s and the beginning of sm_l.\n",
    "t = np.sort(np.append(T, [mp,mp,bp,bp]))\n",
    "\n",
    "i = np.where(t == mp) # index of mp array element\n",
    "entropy = np.insert(s, i[0], [sm_s[-1], sm_l[0]])\n",
    "i = np.where(t == bp)\n",
    "entropy = np.insert(entropy, i[0], [sm_l[-1],sm_g[0]])\n",
    "\n",
    "plt.plot(t, entropy)\n",
    "#plt.xlim(mp-10, mp+10)\n",
    "plt.xlabel('T / K')\n",
    "plt.ylabel(r'$\\overline{S} / \\text{cal/mol K}$');\n",
    "\n",
    "# For creating Figure 1:\n",
    "# plt.xticks(visible=False); plt.yticks(visible=False)\n",
    "# plt.figtext(0.2, 0.03, \"Figure 1\", wrap=True, horizontalalignment='center', \n",
    "#            fontsize=12)\n",
    "# plt.savefig(\"SvsT.png\")\n",
    "\n",
    "# Note that if the jumps in $S$ are not vertical, there is an artifact\n",
    "# from the temperature difference between a measurement and the melting\n",
    "# or boiling point (the mp and bp temperatures are not in the array). $T$ is constant\n",
    "# for phase transitions and thus $S$ should have an infinite slope at transition\n",
    "# temperatures."
   ]
  },
  {
   "cell_type": "markdown",
   "id": "7eab0d60-d147-4142-836e-49d5c0d030f4",
   "metadata": {},
   "source": [
    "**CTQ 17** Compare the plot to your tabulated values. Do they agree?\n",
    "\n"
   ]
  },
  {
   "cell_type": "code",
   "execution_count": null,
   "id": "80fe5a88-762b-4501-b365-be749df9a459",
   "metadata": {},
   "outputs": [],
   "source": []
  },
  {
   "cell_type": "markdown",
   "id": "d0df8d53-61ca-4bc0-ab75-c44b1fb44eff",
   "metadata": {},
   "source": [
    "**CTQ 18** Looking at the plots of $C_{p}$ vs $T$ and $S$ vs $T$, and the tabulated data, does the gas phase contribute much to the total entropy?\n",
    "\n"
   ]
  },
  {
   "cell_type": "code",
   "execution_count": null,
   "id": "a9671854-dca7-4116-8dc5-4fe6a75f215c",
   "metadata": {},
   "outputs": [],
   "source": []
  },
  {
   "cell_type": "markdown",
   "id": "a3b15f94-f513-4b63-b1ff-cae057e353c9",
   "metadata": {},
   "source": [
    "**Exercise 8 (Optional)**  \n",
    "Recreate the plot of $C_p$ vs $T$ shown in section, Term 5.\n",
    "\n"
   ]
  },
  {
   "cell_type": "code",
   "execution_count": null,
   "id": "5368147a-2d22-480f-8352-af4651b14754",
   "metadata": {},
   "outputs": [],
   "source": []
  },
  {
   "cell_type": "markdown",
   "id": "089d3ba2-21ba-48ad-9945-68fdb2ed6849",
   "metadata": {},
   "source": [
    "**Exercise 9 (Optional)**  \n",
    "Complete an optimization plus vibrational frequency analysis with a computational chemistry engine. Use HF or DFT with an &ldquo;accurate&rdquo; basis set. Report the engine used (NWChem, GAMESS, etc.) and the total molar entropy.  Compare this value to the experimental total entropy obtained in this analysis.\n",
    "\n",
    "For example, NWChem / DFT-B3LYP / cc-TVZ yields total entropy = 63.552\n",
    "cal/mol-K at 298 K. This calculation can be repeated for different temperatures.\n",
    "\n"
   ]
  },
  {
   "cell_type": "markdown",
   "id": "2189d8aa-0ff2-42c6-98af-05fff2577b51",
   "metadata": {},
   "source": [
    "## Reflection\n",
    "\n"
   ]
  },
  {
   "cell_type": "markdown",
   "id": "909aec74-13c1-42a6-a860-bad78e564486",
   "metadata": {},
   "source": [
    "On your own, review the Content and Process Objectives at the beginning of the activity. Identify which of the objectives you feel you meet and those that may need more work; explain reasoning for your assessment.\n",
    "\n"
   ]
  },
  {
   "cell_type": "code",
   "execution_count": null,
   "id": "f4a1ca5f-5a6a-41d4-9d96-23efc42879ba",
   "metadata": {},
   "outputs": [],
   "source": []
  },
  {
   "cell_type": "markdown",
   "id": "7bb9038d-e6f4-4f02-9e37-f2058f243995",
   "metadata": {},
   "source": [
    "Identify parts of the activity that stood out as surprising, interesting, or confusing, and explain why.\n",
    "\n"
   ]
  },
  {
   "cell_type": "code",
   "execution_count": null,
   "id": "c3e92051-2656-46f2-bc71-fd9e50f7f923",
   "metadata": {},
   "outputs": [],
   "source": []
  },
  {
   "cell_type": "markdown",
   "id": "822ebc25-2ca4-4615-a4a5-38e28f26f015",
   "metadata": {},
   "source": [
    "## References\n",
    "\n"
   ]
  },
  {
   "cell_type": "markdown",
   "id": "61f23cf2-9a2f-4aa3-8d97-96619db6412a",
   "metadata": {},
   "source": [
    "-   Jones, W. M., and W. F. Giauque, J. Am. Chem. Soc., 69(5) 1947, 983-987\n",
    "-   Pitzer, Kenneth S., and William D. Gwinn, J. Am. Chem. Soc., 63(12), 1941, 3313-3316\n",
    "-   Hamilton and Zielinski, J. Chem. Ed., 86(12), 2009, 1468\n",
    "-   Engle and Reid, Physical Chemistry, 3rd edition, Pearson, 2012, Ch 5\n",
    "-   McQuarrie and Simon, Physical Chemistry a Molecular Approach, University Science Books, 1997, Ch 21\n",
    "\n"
   ]
  },
  {
   "cell_type": "markdown",
   "id": "93be2ba3-cf41-43a3-92e5-156200e5481a",
   "metadata": {},
   "source": [
    "## Acknowledgement\n",
    "\n"
   ]
  },
  {
   "cell_type": "markdown",
   "id": "2996a289-a435-418a-85cc-55e4fcea39a7",
   "metadata": {},
   "source": [
    "[ACT-CMS](https://act-cms.molssi.org/) is funded by the National Science Foundation Training-based Workforce Development for Advanced Cyberinfrastructure program (OAC 2321044,OAC 2321045).\n",
    "\n"
   ]
  }
 ],
 "metadata": {
  "kernelspec": {
   "display_name": "Python 3 (ipykernel)",
   "language": "python",
   "name": "python3"
  },
  "language_info": {
   "codemirror_mode": {
    "name": "ipython",
    "version": 3
   },
   "file_extension": ".py",
   "mimetype": "text/x-python",
   "name": "python",
   "nbconvert_exporter": "python",
   "pygments_lexer": "ipython3",
   "version": "3.10.16"
  },
  "org": null
 },
 "nbformat": 4,
 "nbformat_minor": 5
}
